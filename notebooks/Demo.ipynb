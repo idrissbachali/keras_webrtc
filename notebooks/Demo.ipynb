{
  "cells": [
    {
      "cell_type": "markdown",
      "source": [
        "# Overview\n",
        "You can run through the cells in this notebook one at a time and run real-time predictions on images from your phone"
      ],
      "metadata": {}
    },
    {
      "cell_type": "code",
      "source": [
        "from ipywebrtc import CameraStream, ImageRecorder # for capturing pictures\n",
        "from keras.models import load_model # for loading models\n",
        "from keras.applications.mobilenet_v2 import preprocess_input\n",
        "from PIL import Image\n",
        "import numpy as np\n",
        "import io\n",
        "dx_name_dict = {\n",
        "    'nv': 'melanocytic nevi',\n",
        "    'mel': 'melanoma',\n",
        "    'bcc': 'basal cell carcinoma',\n",
        "    'akiec': 'Actinic keratoses and intraepithelial carcinoma',\n",
        "    'vasc': 'vascular lesions',\n",
        "    'bkl': 'benign keratosis-like',\n",
        "    'df': 'dermatofibroma'\n",
        "}\n",
        "dx_name_id_dict = {id: name for id, name in enumerate(dx_name_dict.values())}\n",
        "dx_name_vec = np.array([dx_name_id_dict[k] for k in sorted(dx_name_id_dict.keys())])"
      ],
      "outputs": [],
      "execution_count": null,
      "metadata": {}
    },
    {
      "cell_type": "code",
      "source": [
        "my_model = load_model('skin_model.h5', compile=False)\n",
        "my_model.summary()"
      ],
      "outputs": [],
      "execution_count": null,
      "metadata": {}
    },
    {
      "cell_type": "code",
      "source": [
        "camera = CameraStream(constraints=\n",
        "                      {'facing_mode': 'user',\n",
        "                       'audio': False,\n",
        "                       'video': { 'width': 224, 'height': 224 }\n",
        "                       })\n",
        "camera"
      ],
      "outputs": [],
      "execution_count": null,
      "metadata": {}
    },
    {
      "cell_type": "code",
      "source": [
        "image_recorder = ImageRecorder(stream=camera)\n",
        "image_recorder"
      ],
      "outputs": [],
      "execution_count": null,
      "metadata": {}
    },
    {
      "cell_type": "code",
      "source": [
        "single_img = Image.open(io.BytesIO(image_recorder.image.value))\n",
        "single_img"
      ],
      "outputs": [],
      "execution_count": null,
      "metadata": {}
    },
    {
      "cell_type": "code",
      "source": [
        "single_img_arr = np.expand_dims(np.array(single_img.convert('RGB')), 0)\n",
        "nn_input_arr = preprocess_input(single_img_arr)\n",
        "print(nn_input_arr.shape)"
      ],
      "outputs": [],
      "execution_count": null,
      "metadata": {}
    },
    {
      "cell_type": "code",
      "source": [
        "nn_output_arr = my_model.predict(nn_input_arr)"
      ],
      "outputs": [],
      "execution_count": null,
      "metadata": {}
    },
    {
      "cell_type": "markdown",
      "source": [
        "# Predictions from the Model"
      ],
      "metadata": {}
    },
    {
      "cell_type": "code",
      "source": [
        "nn_output_arr"
      ],
      "outputs": [],
      "execution_count": null,
      "metadata": {}
    },
    {
      "cell_type": "markdown",
      "source": [
        "## Show the class"
      ],
      "metadata": {}
    },
    {
      "cell_type": "code",
      "source": [
        "print(f'{dx_name_vec[np.argmax(nn_output_arr)]}, {np.max(nn_output_arr):2.1%}')"
      ],
      "outputs": [],
      "execution_count": null,
      "metadata": {}
    },
    {
      "cell_type": "code",
      "source": [],
      "outputs": [],
      "execution_count": null,
      "metadata": {}
    }
  ],
  "metadata": {
    "kernelspec": {
      "name": "python3",
      "language": "python",
      "display_name": "Python 3"
    },
    "language_info": {
      "name": "python",
      "version": "3.6.5",
      "mimetype": "text/x-python",
      "codemirror_mode": {
        "name": "ipython",
        "version": 3
      },
      "pygments_lexer": "ipython3",
      "nbconvert_exporter": "python",
      "file_extension": ".py"
    },
    "kernel_info": {
      "name": "python3"
    },
    "nteract": {
      "version": "0.12.3"
    }
  },
  "nbformat": 4,
  "nbformat_minor": 4
}